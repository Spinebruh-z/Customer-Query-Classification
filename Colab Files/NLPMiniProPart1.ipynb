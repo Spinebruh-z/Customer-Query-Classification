{
  "nbformat": 4,
  "nbformat_minor": 0,
  "metadata": {
    "colab": {
      "provenance": [],
      "gpuType": "T4"
    },
    "kernelspec": {
      "name": "python3",
      "display_name": "Python 3"
    },
    "language_info": {
      "name": "python"
    },
    "accelerator": "GPU"
  },
  "cells": [
    {
      "cell_type": "markdown",
      "source": [
        "Team Members -\n",
        "\n",
        "\n",
        "\n",
        "*   A 648 Pratik Pawar\n",
        "*   A 656 Sarthak Satam\n",
        "*   A 652 Sahil Salunkhe\n",
        "*   A 651 Aniket Saini\n",
        "\n"
      ],
      "metadata": {
        "id": "FjIogzRbyXzn"
      }
    },
    {
      "cell_type": "markdown",
      "source": [
        "## **Section 1: Load the Dataset**"
      ],
      "metadata": {
        "id": "RpQ5AWTxzg8r"
      }
    },
    {
      "cell_type": "code",
      "source": [
        "!pip install fasttext-wheel"
      ],
      "metadata": {
        "colab": {
          "base_uri": "https://localhost:8080/"
        },
        "id": "YuJFfqZe7yLH",
        "outputId": "fca8018b-22e6-4177-90c7-aea4321f78cd"
      },
      "execution_count": null,
      "outputs": [
        {
          "output_type": "stream",
          "name": "stdout",
          "text": [
            "Collecting fasttext-wheel\n",
            "  Downloading fasttext_wheel-0.9.2-cp311-cp311-manylinux_2_17_x86_64.manylinux2014_x86_64.whl.metadata (16 kB)\n",
            "Collecting pybind11>=2.2 (from fasttext-wheel)\n",
            "  Downloading pybind11-2.13.6-py3-none-any.whl.metadata (9.5 kB)\n",
            "Requirement already satisfied: setuptools>=0.7.0 in /usr/local/lib/python3.11/dist-packages (from fasttext-wheel) (75.1.0)\n",
            "Requirement already satisfied: numpy in /usr/local/lib/python3.11/dist-packages (from fasttext-wheel) (2.0.2)\n",
            "Downloading fasttext_wheel-0.9.2-cp311-cp311-manylinux_2_17_x86_64.manylinux2014_x86_64.whl (4.4 MB)\n",
            "\u001b[2K   \u001b[90m━━━━━━━━━━━━━━━━━━━━━━━━━━━━━━━━━━━━━━━━\u001b[0m \u001b[32m4.4/4.4 MB\u001b[0m \u001b[31m55.9 MB/s\u001b[0m eta \u001b[36m0:00:00\u001b[0m\n",
            "\u001b[?25hDownloading pybind11-2.13.6-py3-none-any.whl (243 kB)\n",
            "\u001b[2K   \u001b[90m━━━━━━━━━━━━━━━━━━━━━━━━━━━━━━━━━━━━━━━━\u001b[0m \u001b[32m243.3/243.3 kB\u001b[0m \u001b[31m19.2 MB/s\u001b[0m eta \u001b[36m0:00:00\u001b[0m\n",
            "\u001b[?25hInstalling collected packages: pybind11, fasttext-wheel\n",
            "Successfully installed fasttext-wheel-0.9.2 pybind11-2.13.6\n"
          ]
        }
      ]
    },
    {
      "cell_type": "code",
      "source": [
        "import pandas as pd\n",
        "import numpy as np\n",
        "import re\n",
        "import nltk\n",
        "import joblib\n",
        "import matplotlib.pyplot as plt\n",
        "import seaborn as sns\n",
        "from nltk.corpus import stopwords\n",
        "from sklearn.feature_extraction.text import CountVectorizer, TfidfVectorizer\n",
        "from sklearn.model_selection import train_test_split\n",
        "from sklearn.ensemble import RandomForestClassifier\n",
        "from sklearn.linear_model import LogisticRegression\n",
        "from sklearn.svm import SVC\n",
        "from xgboost import XGBClassifier\n",
        "from sklearn.metrics import accuracy_score, classification_report\n",
        "from google.colab import drive\n",
        "import fasttext.util"
      ],
      "metadata": {
        "id": "S8B0FwtX0Ben"
      },
      "execution_count": null,
      "outputs": []
    },
    {
      "cell_type": "code",
      "source": [
        "# Load datasets\n",
        "path = '/content/drive/MyDrive/ColabNotebooks/NLP/NLP_Mini_project/Dataset/balanced_dataset.csv'\n",
        "\n",
        "df = pd.read_csv(path)"
      ],
      "metadata": {
        "id": "shU1AXRLyWw7"
      },
      "execution_count": null,
      "outputs": []
    },
    {
      "cell_type": "markdown",
      "source": [
        "## **Section 2: Perform Exploratory Data Analysis (EDA)**"
      ],
      "metadata": {
        "id": "x97FDmgS0qQa"
      }
    },
    {
      "cell_type": "code",
      "source": [
        "print(df.info())\n",
        "print(df.describe())\n",
        "\n",
        "# Visualize class distribution\n",
        "sns.countplot(x='category', data=df)\n",
        "plt.title(\"Class Distribution\")\n",
        "plt.show()\n",
        "\n",
        "# Check for missing values\n",
        "print(df.isnull().sum())"
      ],
      "metadata": {
        "id": "kdmXi8bK06K9",
        "colab": {
          "base_uri": "https://localhost:8080/",
          "height": 784
        },
        "outputId": "5247fa13-6fb2-4a82-db6a-7358c1cc5d50"
      },
      "execution_count": null,
      "outputs": [
        {
          "output_type": "stream",
          "name": "stdout",
          "text": [
            "<class 'pandas.core.frame.DataFrame'>\n",
            "RangeIndex: 2995 entries, 0 to 2994\n",
            "Data columns (total 2 columns):\n",
            " #   Column     Non-Null Count  Dtype \n",
            "---  ------     --------------  ----- \n",
            " 0   utterance  2995 non-null   object\n",
            " 1   category   2995 non-null   object\n",
            "dtypes: object(2)\n",
            "memory usage: 46.9+ KB\n",
            "None\n",
            "                                                utterance category\n",
            "count                                                2995     2995\n",
            "unique                                               2995        5\n",
            "top     why I cannot set a new shipping address valid ...  ACCOUNT\n",
            "freq                                                    1      599\n"
          ]
        },
        {
          "output_type": "display_data",
          "data": {
            "text/plain": [
              "<Figure size 640x480 with 1 Axes>"
            ],
            "image/png": "[encoded data removed]"
          },
          "metadata": {}
        },
        {
          "output_type": "stream",
          "name": "stdout",
          "text": [
            "utterance    0\n",
            "category     0\n",
            "dtype: int64\n"
          ]
        }
      ]
    },
    {
      "cell_type": "markdown",
      "source": [
        "## **Section 3: Perform Text Processing on Dataset**"
      ],
      "metadata": {
        "id": "rB-wfdpJ1Rii"
      }
    },
    {
      "cell_type": "code",
      "source": [
        "nltk.download('stopwords')\n",
        "stop_words = set(stopwords.words('english'))\n",
        "\n",
        "def preprocess_text(text):\n",
        "    text = text.lower()\n",
        "    text = re.sub(r'[^a-zA-Z0-9\\s]', '', text)\n",
        "    return text\n",
        "\n",
        "df['clean_text'] = df['utterance'].apply(preprocess_text)"
      ],
      "metadata": {
        "id": "zZZ6hBOy1bks",
        "colab": {
          "base_uri": "https://localhost:8080/"
        },
        "outputId": "05030642-56af-484a-cf99-085c80e2649f"
      },
      "execution_count": null,
      "outputs": [
        {
          "output_type": "stream",
          "name": "stderr",
          "text": [
            "[nltk_data] Downloading package stopwords to /root/nltk_data...\n",
            "[nltk_data]   Unzipping corpora/stopwords.zip.\n"
          ]
        }
      ]
    },
    {
      "cell_type": "markdown",
      "source": [
        "## **Section 4: Generate NLP-Based Features**"
      ],
      "metadata": {
        "id": "1GLE5UuZ1ua5"
      }
    },
    {
      "cell_type": "code",
      "source": [
        "def generate_nlp_features(df):\n",
        "    df['char_count'] = df['clean_text'].apply(len)\n",
        "    df['word_count'] = df['clean_text'].apply(lambda x: len(x.split()))\n",
        "    df['avg_word_length'] = df['clean_text'].apply(lambda x: np.mean([len(word) for word in x.split()]) if x.split() else 0)\n",
        "    df['stopword_count'] = df['clean_text'].apply(lambda x: len([word for word in x.split() if word in stop_words]))\n",
        "    return df\n",
        "\n",
        "df = generate_nlp_features(df)"
      ],
      "metadata": {
        "id": "lYSntBgU16Ck"
      },
      "execution_count": null,
      "outputs": []
    },
    {
      "cell_type": "markdown",
      "source": [
        "## **Section 5: Generate Bag of Words, TFIDF, and FastText Features**"
      ],
      "metadata": {
        "id": "s2eRCxQT21v-"
      }
    },
    {
      "cell_type": "code",
      "source": [
        "bow_vectorizer = CountVectorizer(stop_words='english', max_features=5000)\n",
        "tfidf_vectorizer = TfidfVectorizer(stop_words='english', max_features=5000)\n",
        "\n",
        "X_bow = bow_vectorizer.fit_transform(df['clean_text'])\n",
        "\n",
        "X_tfidf = tfidf_vectorizer.fit_transform(df['clean_text'])\n",
        "\n",
        "fasttext.util.download_model('en', if_exists='ignore')\n",
        "ft = fasttext.load_model('cc.en.300.bin')\n",
        "\n",
        "def get_fasttext_embeddings(text_series):\n",
        "    return np.array([ft.get_sentence_vector(text) for text in text_series])\n",
        "\n",
        "X_fasttext = get_fasttext_embeddings(df['clean_text'])\n",
        "\n",
        "y = df['category']"
      ],
      "metadata": {
        "id": "3NFZvzph28PT",
        "colab": {
          "base_uri": "https://localhost:8080/"
        },
        "outputId": "1ef4a909-f12b-498a-aa23-8749191c39c6"
      },
      "execution_count": null,
      "outputs": [
        {
          "output_type": "stream",
          "name": "stdout",
          "text": [
            "Downloading https://dl.fbaipublicfiles.com/fasttext/vectors-crawl/cc.en.300.bin.gz\n"
          ]
        }
      ]
    },
    {
      "cell_type": "markdown",
      "source": [
        "## **Section 6: Train All Supervised Models on NLP-Based Features**"
      ],
      "metadata": {
        "id": "4pXEIwEM5Csv"
      }
    },
    {
      "cell_type": "code",
      "source": [
        "# Prepare dataset for model training\n",
        "X_nlp = df[['char_count', 'word_count', 'avg_word_length', 'stopword_count']].values\n",
        "# Instead of reassigning y, create a new variable\n",
        "y_encoded = df['category'].map({'ORDER': 0, 'ACCOUNT': 1, 'REFUND': 2, 'SHIPPING_ADDRESS': 3, 'DELIVERY': 4})\n",
        "\n",
        "# Get the common indices between y_encoded and the original dataframe\n",
        "common_indices = y_encoded[~y_encoded.isna()].index\n",
        "\n",
        "# Filter both X_nlp and y_encoded using the common indices\n",
        "X_nlp = X_nlp[common_indices]\n",
        "y_encoded = y_encoded[common_indices]\n",
        "\n",
        "# Train models on NLP Features\n",
        "models = {\n",
        "    \"Random Forest\": RandomForestClassifier(),\n",
        "    \"Logistic Regression\": LogisticRegression(),\n",
        "    \"SVM\": SVC(),\n",
        "    \"XGBoost\": XGBClassifier()\n",
        "}\n",
        "\n",
        "X_train, X_test, y_train, y_test = train_test_split(X_nlp, y_encoded, test_size=0.2, random_state=42, stratify=y_encoded)\n",
        "\n",
        "for name, model in models.items():\n",
        "    model.fit(X_train, y_train)\n",
        "    y_pred = model.predict(X_test)\n",
        "    print(f\"{name} Accuracy: {accuracy_score(y_test, y_pred)}\")\n",
        "    print(classification_report(y_test, y_pred))"
      ],
      "metadata": {
        "id": "6xhSIi5m5HyK",
        "colab": {
          "base_uri": "https://localhost:8080/"
        },
        "outputId": "16dd5714-225d-403f-9149-c233afab4480"
      },
      "execution_count": null,
      "outputs": [
        {
          "output_type": "stream",
          "name": "stdout",
          "text": [
            "Random Forest Accuracy: 0.7045075125208681\n",
            "              precision    recall  f1-score   support\n",
            "\n",
            "           0       0.78      0.78      0.78       120\n",
            "           1       0.61      0.57      0.59       119\n",
            "           2       0.72      0.74      0.73       120\n",
            "           3       0.74      0.72      0.73       120\n",
            "           4       0.67      0.71      0.69       120\n",
            "\n",
            "    accuracy                           0.70       599\n",
            "   macro avg       0.70      0.70      0.70       599\n",
            "weighted avg       0.70      0.70      0.70       599\n",
            "\n",
            "Logistic Regression Accuracy: 0.6277128547579299\n",
            "              precision    recall  f1-score   support\n",
            "\n",
            "           0       0.78      0.78      0.78       120\n",
            "           1       0.57      0.58      0.57       119\n",
            "           2       0.74      0.70      0.72       120\n",
            "           3       0.59      0.59      0.59       120\n",
            "           4       0.47      0.48      0.48       120\n",
            "\n",
            "    accuracy                           0.63       599\n",
            "   macro avg       0.63      0.63      0.63       599\n",
            "weighted avg       0.63      0.63      0.63       599\n",
            "\n"
          ]
        },
        {
          "output_type": "stream",
          "name": "stderr",
          "text": [
            "/usr/local/lib/python3.11/dist-packages/sklearn/linear_model/_logistic.py:465: ConvergenceWarning: lbfgs failed to converge (status=1):\n",
            "STOP: TOTAL NO. of ITERATIONS REACHED LIMIT.\n",
            "\n",
            "Increase the number of iterations (max_iter) or scale the data as shown in:\n",
            "    https://scikit-learn.org/stable/modules/preprocessing.html\n",
            "Please also refer to the documentation for alternative solver options:\n",
            "    https://scikit-learn.org/stable/modules/linear_model.html#logistic-regression\n",
            "  n_iter_i = _check_optimize_result(\n"
          ]
        },
        {
          "output_type": "stream",
          "name": "stdout",
          "text": [
            "SVM Accuracy: 0.5826377295492488\n",
            "              precision    recall  f1-score   support\n",
            "\n",
            "           0       0.62      0.87      0.72       120\n",
            "           1       0.53      0.29      0.38       119\n",
            "           2       0.72      0.68      0.70       120\n",
            "           3       0.47      0.68      0.56       120\n",
            "           4       0.60      0.39      0.47       120\n",
            "\n",
            "    accuracy                           0.58       599\n",
            "   macro avg       0.59      0.58      0.57       599\n",
            "weighted avg       0.59      0.58      0.57       599\n",
            "\n",
            "XGBoost Accuracy: 0.7011686143572621\n",
            "              precision    recall  f1-score   support\n",
            "\n",
            "           0       0.80      0.77      0.78       120\n",
            "           1       0.60      0.57      0.58       119\n",
            "           2       0.73      0.76      0.75       120\n",
            "           3       0.71      0.72      0.71       120\n",
            "           4       0.66      0.69      0.68       120\n",
            "\n",
            "    accuracy                           0.70       599\n",
            "   macro avg       0.70      0.70      0.70       599\n",
            "weighted avg       0.70      0.70      0.70       599\n",
            "\n"
          ]
        }
      ]
    },
    {
      "cell_type": "markdown",
      "source": [
        "## **Sections 7-9: Train Models on BoW, TFIDF, and FastText Features**"
      ],
      "metadata": {
        "id": "bt_lfOWJLyCh"
      }
    },
    {
      "cell_type": "code",
      "source": [
        "# Train models on BoW, TFIDF, and FastText Features\n",
        "feature_sets = {\"BoW\": X_bow, \"TFIDF\": X_tfidf, \"FastText\": X_fasttext}\n",
        "\n",
        "for feature_name, X_feature in feature_sets.items():\n",
        "    # Use the y_encoded variable and common_indices for consistent samples\n",
        "    X_feature = X_feature[common_indices]\n",
        "    X_train, X_test, y_train, y_test = train_test_split(X_feature, y_encoded, test_size=0.2, random_state=42, stratify=y_encoded)\n",
        "    model = XGBClassifier()\n",
        "    model.fit(X_train, y_train)\n",
        "    y_pred = model.predict(X_test)\n",
        "    print(f\"Random Forest Accuracy ({feature_name}): {accuracy_score(y_test, y_pred)}\")"
      ],
      "metadata": {
        "id": "toeSgL-pL1nl",
        "colab": {
          "base_uri": "https://localhost:8080/"
        },
        "outputId": "1cec8b2e-233a-43de-f77f-87c15114a8d3"
      },
      "execution_count": null,
      "outputs": [
        {
          "output_type": "stream",
          "name": "stdout",
          "text": [
            "Random Forest Accuracy (BoW): 0.996661101836394\n",
            "Random Forest Accuracy (TFIDF): 0.993322203672788\n",
            "Random Forest Accuracy (FastText): 0.994991652754591\n"
          ]
        }
      ]
    },
    {
      "cell_type": "markdown",
      "source": [
        "## **Section 10: Train Models on All Combined Features with TFIDF**"
      ],
      "metadata": {
        "id": "-QwP4HFOM0Bc"
      }
    },
    {
      "cell_type": "code",
      "source": [
        "# Apply common_indices filtering to X_tfidf and X_fasttext\n",
        "X_tfidf_filtered = X_tfidf[common_indices]\n",
        "X_fasttext_filtered = X_fasttext[common_indices]\n",
        "\n",
        "# Now perform the horizontal stacking\n",
        "X_combined = np.hstack((X_nlp, X_tfidf_filtered.toarray(), X_fasttext_filtered))\n",
        "best_model_combined = XGBClassifier()\n",
        "best_model_combined.fit(X_combined, y_encoded)"
      ],
      "metadata": {
        "id": "a08vvkUNM2dY",
        "colab": {
          "base_uri": "https://localhost:8080/",
          "height": 253
        },
        "outputId": "4bc1c543-6835-4041-e05d-6dc2178cdf7e"
      },
      "execution_count": null,
      "outputs": [
        {
          "output_type": "execute_result",
          "data": {
            "text/plain": [
              "XGBClassifier(base_score=None, booster=None, callbacks=None,\n",
              "              colsample_bylevel=None, colsample_bynode=None,\n",
              "              colsample_bytree=None, device=None, early_stopping_rounds=None,\n",
              "              enable_categorical=False, eval_metric=None, feature_types=None,\n",
              "              gamma=None, grow_policy=None, importance_type=None,\n",
              "              interaction_constraints=None, learning_rate=None, max_bin=None,\n",
              "              max_cat_threshold=None, max_cat_to_onehot=None,\n",
              "              max_delta_step=None, max_depth=None, max_leaves=None,\n",
              "              min_child_weight=None, missing=nan, monotone_constraints=None,\n",
              "              multi_strategy=None, n_estimators=None, n_jobs=None,\n",
              "              num_parallel_tree=None, objective='multi:softprob', ...)"
            ],
            "text/html": [
              "<style>#sk-container-id-2 {\n",
              "  /* Definition of color scheme common for light and dark mode */\n",
              "  --sklearn-color-text: #000;\n",
              "  --sklearn-color-text-muted: #666;\n",
              "  --sklearn-color-line: gray;\n",
              "  /* Definition of color scheme for unfitted estimators */\n",
              "  --sklearn-color-unfitted-level-0: #fff5e6;\n",
              "  --sklearn-color-unfitted-level-1: #f6e4d2;\n",
              "  --sklearn-color-unfitted-level-2: #ffe0b3;\n",
              "  --sklearn-color-unfitted-level-3: chocolate;\n",
              "  /* Definition of color scheme for fitted estimators */\n",
              "  --sklearn-color-fitted-level-0: #f0f8ff;\n",
              "  --sklearn-color-fitted-level-1: #d4ebff;\n",
              "  --sklearn-color-fitted-level-2: #b3dbfd;\n",
              "  --sklearn-color-fitted-level-3: cornflowerblue;\n",
              "\n",
              "  /* Specific color for light theme */\n",
              "  --sklearn-color-text-on-default-background: var(--sg-text-color, var(--theme-code-foreground, var(--jp-content-font-color1, black)));\n",
              "  --sklearn-color-background: var(--sg-background-color, var(--theme-background, var(--jp-layout-color0, white)));\n",
              "  --sklearn-color-border-box: var(--sg-text-color, var(--theme-code-foreground, var(--jp-content-font-color1, black)));\n",
              "  --sklearn-color-icon: #696969;\n",
              "\n",
              "  @media (prefers-color-scheme: dark) {\n",
              "    /* Redefinition of color scheme for dark theme */\n",
              "    --sklearn-color-text-on-default-background: var(--sg-text-color, var(--theme-code-foreground, var(--jp-content-font-color1, white)));\n",
              "    --sklearn-color-background: var(--sg-background-color, var(--theme-background, var(--jp-layout-color0, #111)));\n",
              "    --sklearn-color-border-box: var(--sg-text-color, var(--theme-code-foreground, var(--jp-content-font-color1, white)));\n",
              "    --sklearn-color-icon: #878787;\n",
              "  }\n",
              "}\n",
              "\n",
              "#sk-container-id-2 {\n",
              "  color: var(--sklearn-color-text);\n",
              "}\n",
              "\n",
              "#sk-container-id-2 pre {\n",
              "  padding: 0;\n",
              "}\n",
              "\n",
              "#sk-container-id-2 input.sk-hidden--visually {\n",
              "  border: 0;\n",
              "  clip: rect(1px 1px 1px 1px);\n",
              "  clip: rect(1px, 1px, 1px, 1px);\n",
              "  height: 1px;\n",
              "  margin: -1px;\n",
              "  overflow: hidden;\n",
              "  padding: 0;\n",
              "  position: absolute;\n",
              "  width: 1px;\n",
              "}\n",
              "\n",
              "#sk-container-id-2 div.sk-dashed-wrapped {\n",
              "  border: 1px dashed var(--sklearn-color-line);\n",
              "  margin: 0 0.4em 0.5em 0.4em;\n",
              "  box-sizing: border-box;\n",
              "  padding-bottom: 0.4em;\n",
              "  background-color: var(--sklearn-color-background);\n",
              "}\n",
              "\n",
              "#sk-container-id-2 div.sk-container {\n",
              "  /* jupyter's `normalize.less` sets `[hidden] { display: none; }`\n",
              "     but bootstrap.min.css set `[hidden] { display: none !important; }`\n",
              "     so we also need the `!important` here to be able to override the\n",
              "     default hidden behavior on the sphinx rendered scikit-learn.org.\n",
              "     See: https://github.com/scikit-learn/scikit-learn/issues/21755 */\n",
              "  display: inline-block !important;\n",
              "  position: relative;\n",
              "}\n",
              "\n",
              "#sk-container-id-2 div.sk-text-repr-fallback {\n",
              "  display: none;\n",
              "}\n",
              "\n",
              "div.sk-parallel-item,\n",
              "div.sk-serial,\n",
              "div.sk-item {\n",
              "  /* draw centered vertical line to link estimators */\n",
              "  background-image: linear-gradient(var(--sklearn-color-text-on-default-background), var(--sklearn-color-text-on-default-background));\n",
              "  background-size: 2px 100%;\n",
              "  background-repeat: no-repeat;\n",
              "  background-position: center center;\n",
              "}\n",
              "\n",
              "/* Parallel-specific style estimator block */\n",
              "\n",
              "#sk-container-id-2 div.sk-parallel-item::after {\n",
              "  content: \"\";\n",
              "  width: 100%;\n",
              "  border-bottom: 2px solid var(--sklearn-color-text-on-default-background);\n",
              "  flex-grow: 1;\n",
              "}\n",
              "\n",
              "#sk-container-id-2 div.sk-parallel {\n",
              "  display: flex;\n",
              "  align-items: stretch;\n",
              "  justify-content: center;\n",
              "  background-color: var(--sklearn-color-background);\n",
              "  position: relative;\n",
              "}\n",
              "\n",
              "#sk-container-id-2 div.sk-parallel-item {\n",
              "  display: flex;\n",
              "  flex-direction: column;\n",
              "}\n",
              "\n",
              "#sk-container-id-2 div.sk-parallel-item:first-child::after {\n",
              "  align-self: flex-end;\n",
              "  width: 50%;\n",
              "}\n",
              "\n",
              "#sk-container-id-2 div.sk-parallel-item:last-child::after {\n",
              "  align-self: flex-start;\n",
              "  width: 50%;\n",
              "}\n",
              "\n",
              "#sk-container-id-2 div.sk-parallel-item:only-child::after {\n",
              "  width: 0;\n",
              "}\n",
              "\n",
              "/* Serial-specific style estimator block */\n",
              "\n",
              "#sk-container-id-2 div.sk-serial {\n",
              "  display: flex;\n",
              "  flex-direction: column;\n",
              "  align-items: center;\n",
              "  background-color: var(--sklearn-color-background);\n",
              "  padding-right: 1em;\n",
              "  padding-left: 1em;\n",
              "}\n",
              "\n",
              "\n",
              "/* Toggleable style: style used for estimator/Pipeline/ColumnTransformer box that is\n",
              "clickable and can be expanded/collapsed.\n",
              "- Pipeline and ColumnTransformer use this feature and define the default style\n",
              "- Estimators will overwrite some part of the style using the `sk-estimator` class\n",
              "*/\n",
              "\n",
              "/* Pipeline and ColumnTransformer style (default) */\n",
              "\n",
              "#sk-container-id-2 div.sk-toggleable {\n",
              "  /* Default theme specific background. It is overwritten whether we have a\n",
              "  specific estimator or a Pipeline/ColumnTransformer */\n",
              "  background-color: var(--sklearn-color-background);\n",
              "}\n",
              "\n",
              "/* Toggleable label */\n",
              "#sk-container-id-2 label.sk-toggleable__label {\n",
              "  cursor: pointer;\n",
              "  display: flex;\n",
              "  width: 100%;\n",
              "  margin-bottom: 0;\n",
              "  padding: 0.5em;\n",
              "  box-sizing: border-box;\n",
              "  text-align: center;\n",
              "  align-items: start;\n",
              "  justify-content: space-between;\n",
              "  gap: 0.5em;\n",
              "}\n",
              "\n",
              "#sk-container-id-2 label.sk-toggleable__label .caption {\n",
              "  font-size: 0.6rem;\n",
              "  font-weight: lighter;\n",
              "  color: var(--sklearn-color-text-muted);\n",
              "}\n",
              "\n",
              "#sk-container-id-2 label.sk-toggleable__label-arrow:before {\n",
              "  /* Arrow on the left of the label */\n",
              "  content: \"▸\";\n",
              "  float: left;\n",
              "  margin-right: 0.25em;\n",
              "  color: var(--sklearn-color-icon);\n",
              "}\n",
              "\n",
              "#sk-container-id-2 label.sk-toggleable__label-arrow:hover:before {\n",
              "  color: var(--sklearn-color-text);\n",
              "}\n",
              "\n",
              "/* Toggleable content - dropdown */\n",
              "\n",
              "#sk-container-id-2 div.sk-toggleable__content {\n",
              "  max-height: 0;\n",
              "  max-width: 0;\n",
              "  overflow: hidden;\n",
              "  text-align: left;\n",
              "  /* unfitted */\n",
              "  background-color: var(--sklearn-color-unfitted-level-0);\n",
              "}\n",
              "\n",
              "#sk-container-id-2 div.sk-toggleable__content.fitted {\n",
              "  /* fitted */\n",
              "  background-color: var(--sklearn-color-fitted-level-0);\n",
              "}\n",
              "\n",
              "#sk-container-id-2 div.sk-toggleable__content pre {\n",
              "  margin: 0.2em;\n",
              "  border-radius: 0.25em;\n",
              "  color: var(--sklearn-color-text);\n",
              "  /* unfitted */\n",
              "  background-color: var(--sklearn-color-unfitted-level-0);\n",
              "}\n",
              "\n",
              "#sk-container-id-2 div.sk-toggleable__content.fitted pre {\n",
              "  /* unfitted */\n",
              "  background-color: var(--sklearn-color-fitted-level-0);\n",
              "}\n",
              "\n",
              "#sk-container-id-2 input.sk-toggleable__control:checked~div.sk-toggleable__content {\n",
              "  /* Expand drop-down */\n",
              "  max-height: 200px;\n",
              "  max-width: 100%;\n",
              "  overflow: auto;\n",
              "}\n",
              "\n",
              "#sk-container-id-2 input.sk-toggleable__control:checked~label.sk-toggleable__label-arrow:before {\n",
              "  content: \"▾\";\n",
              "}\n",
              "\n",
              "/* Pipeline/ColumnTransformer-specific style */\n",
              "\n",
              "#sk-container-id-2 div.sk-label input.sk-toggleable__control:checked~label.sk-toggleable__label {\n",
              "  color: var(--sklearn-color-text);\n",
              "  background-color: var(--sklearn-color-unfitted-level-2);\n",
              "}\n",
              "\n",
              "#sk-container-id-2 div.sk-label.fitted input.sk-toggleable__control:checked~label.sk-toggleable__label {\n",
              "  background-color: var(--sklearn-color-fitted-level-2);\n",
              "}\n",
              "\n",
              "/* Estimator-specific style */\n",
              "\n",
              "/* Colorize estimator box */\n",
              "#sk-container-id-2 div.sk-estimator input.sk-toggleable__control:checked~label.sk-toggleable__label {\n",
              "  /* unfitted */\n",
              "  background-color: var(--sklearn-color-unfitted-level-2);\n",
              "}\n",
              "\n",
              "#sk-container-id-2 div.sk-estimator.fitted input.sk-toggleable__control:checked~label.sk-toggleable__label {\n",
              "  /* fitted */\n",
              "  background-color: var(--sklearn-color-fitted-level-2);\n",
              "}\n",
              "\n",
              "#sk-container-id-2 div.sk-label label.sk-toggleable__label,\n",
              "#sk-container-id-2 div.sk-label label {\n",
              "  /* The background is the default theme color */\n",
              "  color: var(--sklearn-color-text-on-default-background);\n",
              "}\n",
              "\n",
              "/* On hover, darken the color of the background */\n",
              "#sk-container-id-2 div.sk-label:hover label.sk-toggleable__label {\n",
              "  color: var(--sklearn-color-text);\n",
              "  background-color: var(--sklearn-color-unfitted-level-2);\n",
              "}\n",
              "\n",
              "/* Label box, darken color on hover, fitted */\n",
              "#sk-container-id-2 div.sk-label.fitted:hover label.sk-toggleable__label.fitted {\n",
              "  color: var(--sklearn-color-text);\n",
              "  background-color: var(--sklearn-color-fitted-level-2);\n",
              "}\n",
              "\n",
              "/* Estimator label */\n",
              "\n",
              "#sk-container-id-2 div.sk-label label {\n",
              "  font-family: monospace;\n",
              "  font-weight: bold;\n",
              "  display: inline-block;\n",
              "  line-height: 1.2em;\n",
              "}\n",
              "\n",
              "#sk-container-id-2 div.sk-label-container {\n",
              "  text-align: center;\n",
              "}\n",
              "\n",
              "/* Estimator-specific */\n",
              "#sk-container-id-2 div.sk-estimator {\n",
              "  font-family: monospace;\n",
              "  border: 1px dotted var(--sklearn-color-border-box);\n",
              "  border-radius: 0.25em;\n",
              "  box-sizing: border-box;\n",
              "  margin-bottom: 0.5em;\n",
              "  /* unfitted */\n",
              "  background-color: var(--sklearn-color-unfitted-level-0);\n",
              "}\n",
              "\n",
              "#sk-container-id-2 div.sk-estimator.fitted {\n",
              "  /* fitted */\n",
              "  background-color: var(--sklearn-color-fitted-level-0);\n",
              "}\n",
              "\n",
              "/* on hover */\n",
              "#sk-container-id-2 div.sk-estimator:hover {\n",
              "  /* unfitted */\n",
              "  background-color: var(--sklearn-color-unfitted-level-2);\n",
              "}\n",
              "\n",
              "#sk-container-id-2 div.sk-estimator.fitted:hover {\n",
              "  /* fitted */\n",
              "  background-color: var(--sklearn-color-fitted-level-2);\n",
              "}\n",
              "\n",
              "/* Specification for estimator info (e.g. \"i\" and \"?\") */\n",
              "\n",
              "/* Common style for \"i\" and \"?\" */\n",
              "\n",
              ".sk-estimator-doc-link,\n",
              "a:link.sk-estimator-doc-link,\n",
              "a:visited.sk-estimator-doc-link {\n",
              "  float: right;\n",
              "  font-size: smaller;\n",
              "  line-height: 1em;\n",
              "  font-family: monospace;\n",
              "  background-color: var(--sklearn-color-background);\n",
              "  border-radius: 1em;\n",
              "  height: 1em;\n",
              "  width: 1em;\n",
              "  text-decoration: none !important;\n",
              "  margin-left: 0.5em;\n",
              "  text-align: center;\n",
              "  /* unfitted */\n",
              "  border: var(--sklearn-color-unfitted-level-1) 1pt solid;\n",
              "  color: var(--sklearn-color-unfitted-level-1);\n",
              "}\n",
              "\n",
              ".sk-estimator-doc-link.fitted,\n",
              "a:link.sk-estimator-doc-link.fitted,\n",
              "a:visited.sk-estimator-doc-link.fitted {\n",
              "  /* fitted */\n",
              "  border: var(--sklearn-color-fitted-level-1) 1pt solid;\n",
              "  color: var(--sklearn-color-fitted-level-1);\n",
              "}\n",
              "\n",
              "/* On hover */\n",
              "div.sk-estimator:hover .sk-estimator-doc-link:hover,\n",
              ".sk-estimator-doc-link:hover,\n",
              "div.sk-label-container:hover .sk-estimator-doc-link:hover,\n",
              ".sk-estimator-doc-link:hover {\n",
              "  /* unfitted */\n",
              "  background-color: var(--sklearn-color-unfitted-level-3);\n",
              "  color: var(--sklearn-color-background);\n",
              "  text-decoration: none;\n",
              "}\n",
              "\n",
              "div.sk-estimator.fitted:hover .sk-estimator-doc-link.fitted:hover,\n",
              ".sk-estimator-doc-link.fitted:hover,\n",
              "div.sk-label-container:hover .sk-estimator-doc-link.fitted:hover,\n",
              ".sk-estimator-doc-link.fitted:hover {\n",
              "  /* fitted */\n",
              "  background-color: var(--sklearn-color-fitted-level-3);\n",
              "  color: var(--sklearn-color-background);\n",
              "  text-decoration: none;\n",
              "}\n",
              "\n",
              "/* Span, style for the box shown on hovering the info icon */\n",
              ".sk-estimator-doc-link span {\n",
              "  display: none;\n",
              "  z-index: 9999;\n",
              "  position: relative;\n",
              "  font-weight: normal;\n",
              "  right: .2ex;\n",
              "  padding: .5ex;\n",
              "  margin: .5ex;\n",
              "  width: min-content;\n",
              "  min-width: 20ex;\n",
              "  max-width: 50ex;\n",
              "  color: var(--sklearn-color-text);\n",
              "  box-shadow: 2pt 2pt 4pt #999;\n",
              "  /* unfitted */\n",
              "  background: var(--sklearn-color-unfitted-level-0);\n",
              "  border: .5pt solid var(--sklearn-color-unfitted-level-3);\n",
              "}\n",
              "\n",
              ".sk-estimator-doc-link.fitted span {\n",
              "  /* fitted */\n",
              "  background: var(--sklearn-color-fitted-level-0);\n",
              "  border: var(--sklearn-color-fitted-level-3);\n",
              "}\n",
              "\n",
              ".sk-estimator-doc-link:hover span {\n",
              "  display: block;\n",
              "}\n",
              "\n",
              "/* \"?\"-specific style due to the `<a>` HTML tag */\n",
              "\n",
              "#sk-container-id-2 a.estimator_doc_link {\n",
              "  float: right;\n",
              "  font-size: 1rem;\n",
              "  line-height: 1em;\n",
              "  font-family: monospace;\n",
              "  background-color: var(--sklearn-color-background);\n",
              "  border-radius: 1rem;\n",
              "  height: 1rem;\n",
              "  width: 1rem;\n",
              "  text-decoration: none;\n",
              "  /* unfitted */\n",
              "  color: var(--sklearn-color-unfitted-level-1);\n",
              "  border: var(--sklearn-color-unfitted-level-1) 1pt solid;\n",
              "}\n",
              "\n",
              "#sk-container-id-2 a.estimator_doc_link.fitted {\n",
              "  /* fitted */\n",
              "  border: var(--sklearn-color-fitted-level-1) 1pt solid;\n",
              "  color: var(--sklearn-color-fitted-level-1);\n",
              "}\n",
              "\n",
              "/* On hover */\n",
              "#sk-container-id-2 a.estimator_doc_link:hover {\n",
              "  /* unfitted */\n",
              "  background-color: var(--sklearn-color-unfitted-level-3);\n",
              "  color: var(--sklearn-color-background);\n",
              "  text-decoration: none;\n",
              "}\n",
              "\n",
              "#sk-container-id-2 a.estimator_doc_link.fitted:hover {\n",
              "  /* fitted */\n",
              "  background-color: var(--sklearn-color-fitted-level-3);\n",
              "}\n",
              "</style><div id=\"sk-container-id-2\" class=\"sk-top-container\"><div class=\"sk-text-repr-fallback\"><pre>XGBClassifier(base_score=None, booster=None, callbacks=None,\n",
              "              colsample_bylevel=None, colsample_bynode=None,\n",
              "              colsample_bytree=None, device=None, early_stopping_rounds=None,\n",
              "              enable_categorical=False, eval_metric=None, feature_types=None,\n",
              "              gamma=None, grow_policy=None, importance_type=None,\n",
              "              interaction_constraints=None, learning_rate=None, max_bin=None,\n",
              "              max_cat_threshold=None, max_cat_to_onehot=None,\n",
              "              max_delta_step=None, max_depth=None, max_leaves=None,\n",
              "              min_child_weight=None, missing=nan, monotone_constraints=None,\n",
              "              multi_strategy=None, n_estimators=None, n_jobs=None,\n",
              "              num_parallel_tree=None, objective=&#x27;multi:softprob&#x27;, ...)</pre><b>In a Jupyter environment, please rerun this cell to show the HTML representation or trust the notebook. <br />On GitHub, the HTML representation is unable to render, please try loading this page with nbviewer.org.</b></div><div class=\"sk-container\" hidden><div class=\"sk-item\"><div class=\"sk-estimator fitted sk-toggleable\"><input class=\"sk-toggleable__control sk-hidden--visually\" id=\"sk-estimator-id-2\" type=\"checkbox\" checked><label for=\"sk-estimator-id-2\" class=\"sk-toggleable__label fitted sk-toggleable__label-arrow\"><div><div>XGBClassifier</div></div><div><span class=\"sk-estimator-doc-link fitted\">i<span>Fitted</span></span></div></label><div class=\"sk-toggleable__content fitted\"><pre>XGBClassifier(base_score=None, booster=None, callbacks=None,\n",
              "              colsample_bylevel=None, colsample_bynode=None,\n",
              "              colsample_bytree=None, device=None, early_stopping_rounds=None,\n",
              "              enable_categorical=False, eval_metric=None, feature_types=None,\n",
              "              gamma=None, grow_policy=None, importance_type=None,\n",
              "              interaction_constraints=None, learning_rate=None, max_bin=None,\n",
              "              max_cat_threshold=None, max_cat_to_onehot=None,\n",
              "              max_delta_step=None, max_depth=None, max_leaves=None,\n",
              "              min_child_weight=None, missing=nan, monotone_constraints=None,\n",
              "              multi_strategy=None, n_estimators=None, n_jobs=None,\n",
              "              num_parallel_tree=None, objective=&#x27;multi:softprob&#x27;, ...)</pre></div> </div></div></div></div>"
            ]
          },
          "metadata": {},
          "execution_count": 15
        }
      ]
    },
    {
      "cell_type": "markdown",
      "source": [
        "## **Section 11: Save the Model and Make Predictions on Real-World Input**"
      ],
      "metadata": {
        "id": "yfFDyRFpNTXH"
      }
    },
    {
      "cell_type": "code",
      "source": [
        "joblib.dump(best_model_combined, 'cust_query_class_model_combined.pkl')\n",
        "# Load model and make predictions\n",
        "loaded_model_combined = joblib.load('cust_query_class_model_combined.pkl')\n",
        "\n",
        "new_text = [\"can you show me what delivery options I have? The delivery date has passed, but I still haven't received my package. Can you help me find out what happened?\"]\n",
        "new_text_cleaned = [preprocess_text(text) for text in new_text]\n",
        "new_text_features_tfidf = tfidf_vectorizer.transform(new_text_cleaned).toarray()\n",
        "\n",
        "# Get a single FastText embedding for the entire sentence\n",
        "new_text_fasttext = get_fasttext_embeddings(new_text_cleaned)\n",
        "\n",
        "new_text_nlp_features = np.array([[len(text), len(text.split()), np.mean([len(word) for word in text.split()]) if text.split() else 0, len([word for word in text.split() if word in stop_words])] for text in new_text_cleaned])\n",
        "\n",
        "# Reshape new_text_fasttext if it's not 2D\n",
        "if new_text_fasttext.ndim == 1:\n",
        "    new_text_fasttext = new_text_fasttext.reshape(1, -1)\n",
        "\n",
        "new_text_features_combined = np.hstack((new_text_nlp_features, new_text_features_tfidf, new_text_fasttext))\n",
        "\n",
        "prediction = loaded_model_combined.predict(new_text_features_combined)\n",
        "if prediction[0] == 0:\n",
        "    print('Prediction for new text: ORDER')\n",
        "elif  prediction[0] == 1:\n",
        "    print('Prediction for new text: ACCOUNT')\n",
        "elif prediction[0] == 2:\n",
        "    print('Prediction for new text: REFUND')\n",
        "elif prediction[0] == 3:\n",
        "    print('Prediction for new text: SHIPPING_ADDRESS')\n",
        "else:\n",
        "    print('Prediction for new text: DELIVERY')"
      ],
      "metadata": {
        "id": "LVBcHsfaNWRh",
        "colab": {
          "base_uri": "https://localhost:8080/"
        },
        "outputId": "5c3f9cc8-04be-4b6b-8544-99d068598a26"
      },
      "execution_count": null,
      "outputs": [
        {
          "output_type": "stream",
          "name": "stdout",
          "text": [
            "Prediction for new text: DELIVERY\n"
          ]
        }
      ]
    },
    {
      "cell_type": "markdown",
      "source": [
        "## **Section 12: Provide Analysis on Results**"
      ],
      "metadata": {
        "id": "BBSLKIs4iVyi"
      }
    },
    {
      "cell_type": "markdown",
      "source": [
        "\n",
        "The models were trained on different feature sets: NLP-based features, Bag of Words (BoW), TFIDF, FastText embeddings, and a combination of all. The results show that the combined feature approach performed the best, followed by FastText embeddings and TFIDF.\n",
        "\n",
        "\n",
        "**NLP-Based Features (character count, word count, average word length, stopword count):**\n",
        "\n",
        "* These features provide basic insights into the text structure but lack deep contextual understanding. In the context of customer queries, such features can highlight text complexity and verbosity, yet they don’t capture the nuances of user intent. As a result, performance using only these features was moderate.\n",
        "\n",
        "**Bag of Words (BoW):**\n",
        "\n",
        "* The BoW approach was able to identify common words in customer queries, offering an improvement over basic NLP features. However, since it disregards word order and context, its effectiveness is limited in capturing the subtleties of customer intent.\n",
        "\n",
        "**TFIDF Features:**\n",
        "\n",
        "* TFIDF outperformed BoW by down-weighting overly common terms and emphasizing more distinctive words that are indicative of specific customer intents. This led to improved accuracy by focusing on the most relevant keywords in queries.\n",
        "\n",
        "**FastText Embeddings:**\n",
        "\n",
        "* FastText embeddings performed well because they capture semantic meaning and relationships between words. This capability is crucial for understanding variations in phrasing and synonyms in customer queries. Although computationally more intensive, FastText generalized better across diverse query formulations.\n",
        "\n",
        "**Combined Features (NLP + TFIDF + FastText):**\n",
        "\n",
        "* The hybrid approach, which integrated both semantic and structural features, achieved the highest accuracy. By leveraging the strengths of TFIDF and FastText alongside basic NLP features, the model could better interpret both the explicit keywords and the underlying context of the customer queries.\n",
        "\n",
        "**Key Insights & Challenges:**\n",
        "\n",
        "* Class Imbalance: Certain customer query categories might be underrepresented, necessitating techniques like oversampling or cost-sensitive learning to balance the dataset.\n",
        "Feature Engineering: Combining diverse features (dense FastText embeddings with sparse TFIDF vectors) required careful preprocessing and integration to ensure compatibility.\n",
        "Computational Cost: The use of pre-trained FastText embeddings increases runtime, highlighting the need for optimization—especially for real-time applications.\n",
        "\n",
        "**Suggestions for Improvement & Future Work:**\n",
        "\n",
        "* Deep Learning Models: Implement architectures such as LSTMs, GRUs, or Transformers (e.g., BERT) to capture sequential patterns and contextual nuances in customer queries.\n",
        "Advanced Feature Engineering: Explore additional NLP techniques like Part-of-Speech (POS) tagging, Named Entity Recognition (NER), and sentiment analysis to further improve context understanding.\n",
        "Handling Imbalanced Data: Experiment with data augmentation, oversampling techniques, or cost-sensitive learning to mitigate the effects of class imbalance.\n",
        "\n",
        "**Real-Time Deployment:**\n",
        "\n",
        "* Optimize the model’s computational efficiency and performance for deployment in real-time customer query classification systems."
      ],
      "metadata": {
        "id": "eRu_UbdmicuS"
      }
    }
  ]
}