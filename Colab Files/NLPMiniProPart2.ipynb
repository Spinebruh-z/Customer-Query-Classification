{
  "cells": [
    {
      "cell_type": "markdown",
      "metadata": {
        "id": "6MKd_7BeVBP0"
      },
      "source": [
        "## **1. Data Loading**"
      ]
    },
    {
      "cell_type": "code",
      "execution_count": null,
      "metadata": {
        "id": "E6dXJCsQieJ8"
      },
      "outputs": [],
      "source": [
        "# Import required libraries\n",
        "import pandas as pd\n",
        "from sklearn.model_selection import train_test_split\n",
        "import matplotlib.pyplot as plt"
      ]
    },
    {
      "cell_type": "code",
      "execution_count": null,
      "metadata": {
        "colab": {
          "base_uri": "https://localhost:8080/"
        },
        "id": "LkDGlDgtjDZv",
        "outputId": "a4120ad0-a1a1-48ba-ca2e-ca782047680f"
      },
      "outputs": [
        {
          "output_type": "stream",
          "name": "stdout",
          "text": [
            "Requirement already satisfied: nltk in /usr/local/lib/python3.11/dist-packages (3.9.1)\n",
            "Requirement already satisfied: keras in /usr/local/lib/python3.11/dist-packages (3.8.0)\n",
            "Requirement already satisfied: gensim in /usr/local/lib/python3.11/dist-packages (4.3.3)\n",
            "Requirement already satisfied: scikit-learn in /usr/local/lib/python3.11/dist-packages (1.6.1)\n",
            "Requirement already satisfied: click in /usr/local/lib/python3.11/dist-packages (from nltk) (8.1.8)\n",
            "Requirement already satisfied: joblib in /usr/local/lib/python3.11/dist-packages (from nltk) (1.4.2)\n",
            "Requirement already satisfied: regex>=2021.8.3 in /usr/local/lib/python3.11/dist-packages (from nltk) (2024.11.6)\n",
            "Requirement already satisfied: tqdm in /usr/local/lib/python3.11/dist-packages (from nltk) (4.67.1)\n",
            "Requirement already satisfied: absl-py in /usr/local/lib/python3.11/dist-packages (from keras) (1.4.0)\n",
            "Requirement already satisfied: numpy in /usr/local/lib/python3.11/dist-packages (from keras) (1.26.4)\n",
            "Requirement already satisfied: rich in /usr/local/lib/python3.11/dist-packages (from keras) (13.9.4)\n",
            "Requirement already satisfied: namex in /usr/local/lib/python3.11/dist-packages (from keras) (0.0.8)\n",
            "Requirement already satisfied: h5py in /usr/local/lib/python3.11/dist-packages (from keras) (3.13.0)\n",
            "Requirement already satisfied: optree in /usr/local/lib/python3.11/dist-packages (from keras) (0.14.1)\n",
            "Requirement already satisfied: ml-dtypes in /usr/local/lib/python3.11/dist-packages (from keras) (0.5.1)\n",
            "Requirement already satisfied: packaging in /usr/local/lib/python3.11/dist-packages (from keras) (24.2)\n",
            "Requirement already satisfied: scipy<1.14.0,>=1.7.0 in /usr/local/lib/python3.11/dist-packages (from gensim) (1.13.1)\n",
            "Requirement already satisfied: smart-open>=1.8.1 in /usr/local/lib/python3.11/dist-packages (from gensim) (7.1.0)\n",
            "Requirement already satisfied: threadpoolctl>=3.1.0 in /usr/local/lib/python3.11/dist-packages (from scikit-learn) (3.6.0)\n",
            "Requirement already satisfied: wrapt in /usr/local/lib/python3.11/dist-packages (from smart-open>=1.8.1->gensim) (1.17.2)\n",
            "Requirement already satisfied: typing-extensions>=4.5.0 in /usr/local/lib/python3.11/dist-packages (from optree->keras) (4.12.2)\n",
            "Requirement already satisfied: markdown-it-py>=2.2.0 in /usr/local/lib/python3.11/dist-packages (from rich->keras) (3.0.0)\n",
            "Requirement already satisfied: pygments<3.0.0,>=2.13.0 in /usr/local/lib/python3.11/dist-packages (from rich->keras) (2.18.0)\n",
            "Requirement already satisfied: mdurl~=0.1 in /usr/local/lib/python3.11/dist-packages (from markdown-it-py>=2.2.0->rich->keras) (0.1.2)\n"
          ]
        }
      ],
      "source": [
        "!pip install nltk keras gensim scikit-learn"
      ]
    },
    {
      "cell_type": "code",
      "execution_count": null,
      "metadata": {
        "colab": {
          "base_uri": "https://localhost:8080/",
          "height": 942
        },
        "id": "4mqRbfT-bYS5",
        "outputId": "ca3ad836-fbc6-45ed-a31c-2c7da29b7245"
      },
      "outputs": [
        {
          "output_type": "stream",
          "name": "stdout",
          "text": [
            "Dataset overview:\n",
            "<class 'pandas.core.frame.DataFrame'>\n",
            "RangeIndex: 2995 entries, 0 to 2994\n",
            "Data columns (total 2 columns):\n",
            " #   Column     Non-Null Count  Dtype \n",
            "---  ------     --------------  ----- \n",
            " 0   utterance  2995 non-null   object\n",
            " 1   category   2995 non-null   object\n",
            "dtypes: object(2)\n",
            "memory usage: 46.9+ KB\n",
            "None\n",
            "\n",
            "Sample data:\n",
            "                                           utterance category\n",
            "0  how to edit the information on my account? I'm...  ACCOUNT\n",
            "1  I do not know what I need to do to switch user...  ACCOUNT\n",
            "2  where can I switch user? Could you please prov...  ACCOUNT\n",
            "3  what do I need to do to change the user detail...  ACCOUNT\n",
            "4  I don't know what to do to switch to another a...  ACCOUNT\n"
          ]
        },
        {
          "output_type": "display_data",
          "data": {
            "text/plain": [
              "<Figure size 800x500 with 1 Axes>"
            ],
            "image/png": "[encoded data removed]"
          },
          "metadata": {}
        }
      ],
      "source": [
        "# Load the dataset\n",
        "data = pd.read_csv('/content/drive/MyDrive/ColabNotebooks/NLP/NLP_Mini_project/Dataset/balanced_dataset.csv')  # Replace with actual dataset path\n",
        "\n",
        "# Exploratory Data Analysis (EDA)\n",
        "print(\"Dataset overview:\")\n",
        "print(data.info())  # Checking for missing values, data types\n",
        "print(\"\\nSample data:\")\n",
        "print(data.head())  # Display the first few rows\n",
        "\n",
        "# Plot class distribution\n",
        "plt.figure(figsize=(8, 5))\n",
        "data['category'].value_counts().plot(kind='bar', color='skyblue')\n",
        "plt.title('Class Distribution')\n",
        "plt.xlabel('Class')\n",
        "plt.ylabel('Count')\n",
        "plt.show()\n",
        "\n",
        "# Splitting data into train, validation, and test sets\n",
        "train_data, test_data = train_test_split(data, test_size=0.2, random_state=42)\n",
        "train_data, val_data = train_test_split(train_data, test_size=0.1, random_state=42)"
      ]
    },
    {
      "cell_type": "markdown",
      "metadata": {
        "id": "wERXZlOKbeaU"
      },
      "source": [
        "## **2. Text Processing**\n",
        "\n",
        "\n",
        "*   Clean the text by removing stop words, punctuation, and special characters.\n",
        "*   Tokenization: Convert sentences into lists of words/tokens.\n",
        "*   Optionally, apply stemming or lemmatization to normalize words.\n",
        "\n"
      ]
    },
    {
      "cell_type": "code",
      "execution_count": null,
      "metadata": {
        "id": "KiirG1l2be1G",
        "colab": {
          "base_uri": "https://localhost:8080/"
        },
        "outputId": "1403a080-37da-4403-c542-c4fda80f408f"
      },
      "outputs": [
        {
          "output_type": "stream",
          "name": "stderr",
          "text": [
            "[nltk_data] Downloading package punkt to /root/nltk_data...\n",
            "[nltk_data]   Package punkt is already up-to-date!\n",
            "[nltk_data] Downloading package punkt_tab to /root/nltk_data...\n",
            "[nltk_data]   Package punkt_tab is already up-to-date!\n",
            "[nltk_data] Downloading package stopwords to /root/nltk_data...\n",
            "[nltk_data]   Package stopwords is already up-to-date!\n"
          ]
        },
        {
          "output_type": "stream",
          "name": "stdout",
          "text": [
            "                                              utterance  \\\n",
            "2107  is it possible to check how long refunds take?...   \n",
            "1056  help me checking what delivery options I can c...   \n",
            "1450  assistance to track an order I placed the orde...   \n",
            "2813  I need information about the options for deliv...   \n",
            "50    i cannot remember my account pwd i need help t...   \n",
            "\n",
            "                                         processed_text  \\\n",
            "2107  possible check long refunds take ordered produ...   \n",
            "1056  help checking delivery options choose delivery...   \n",
            "1450  assistance track order placed order last week ...   \n",
            "2813  need information options delivery delivery dat...   \n",
            "50    remember account pwd need help restore trouble...   \n",
            "\n",
            "                                         text_sequences  \\\n",
            "2107      [72, 6, 67, 58, 94, 30, 29, 31, 3, 4, 12, 32]   \n",
            "1056  [5, 55, 7, 40, 95, 7, 24, 25, 3, 4, 8, 5, 20, 26]   \n",
            "1450             [9, 61, 11, 35, 11, 21, 36, 4, 37, 34]   \n",
            "2813     [33, 10, 40, 7, 7, 24, 25, 3, 4, 8, 5, 20, 26]   \n",
            "50    [215, 18, 169, 33, 5, 162, 42, 43, 18, 44, 39,...   \n",
            "\n",
            "                                       padded_sequences  \n",
            "2107  [72, 6, 67, 58, 94, 30, 29, 31, 3, 4, 12, 32, ...  \n",
            "1056  [5, 55, 7, 40, 95, 7, 24, 25, 3, 4, 8, 5, 20, ...  \n",
            "1450  [9, 61, 11, 35, 11, 21, 36, 4, 37, 34, 0, 0, 0...  \n",
            "2813  [33, 10, 40, 7, 7, 24, 25, 3, 4, 8, 5, 20, 26,...  \n",
            "50    [215, 18, 169, 33, 5, 162, 42, 43, 18, 44, 39,...  \n"
          ]
        }
      ],
      "source": [
        "import re\n",
        "import nltk\n",
        "nltk.download('punkt')\n",
        "nltk.download('punkt_tab')\n",
        "nltk.download('stopwords')\n",
        "\n",
        "from nltk.corpus import stopwords\n",
        "from nltk.tokenize import word_tokenize\n",
        "from tensorflow.keras.preprocessing.text import Tokenizer\n",
        "from tensorflow.keras.preprocessing.sequence import pad_sequences\n",
        "\n",
        "# Define constants\n",
        "MAX_NUM_WORDS = 10000  # Max vocabulary size\n",
        "MAX_SEQUENCE_LENGTH = 200  # Max length for padded sequences\n",
        "\n",
        "# Function to clean and preprocess text\n",
        "def preprocess_text(text):\n",
        "    text = text.lower()  # Convert to lowercase\n",
        "    text = re.sub(r'\\W', ' ', text)  # Remove special characters\n",
        "    text = re.sub(r'\\s+', ' ', text)  # Remove extra spaces\n",
        "    tokens = word_tokenize(text)  # Tokenize the text\n",
        "    tokens = [word for word in tokens if word not in stopwords.words('english')]  # Remove stopwords\n",
        "    return ' '.join(tokens)\n",
        "\n",
        "# Apply the preprocessing to the dataset\n",
        "train_data['processed_text'] = train_data['utterance'].apply(preprocess_text)\n",
        "val_data['processed_text'] = val_data['utterance'].apply(preprocess_text)\n",
        "test_data['processed_text'] = test_data['utterance'].apply(preprocess_text)\n",
        "\n",
        "# Initialize and fit tokenizer on the processed text\n",
        "tokenizer = Tokenizer(num_words=MAX_NUM_WORDS, oov_token=\"<OOV>\")\n",
        "tokenizer.fit_on_texts(train_data['processed_text'])\n",
        "\n",
        "# Convert processed text to sequences of word indices\n",
        "train_data['text_sequences'] = tokenizer.texts_to_sequences(train_data['processed_text'])\n",
        "val_data['text_sequences'] = tokenizer.texts_to_sequences(val_data['processed_text'])\n",
        "test_data['text_sequences'] = tokenizer.texts_to_sequences(test_data['processed_text'])\n",
        "\n",
        "# Pad sequences to ensure uniform input size\n",
        "train_data['padded_sequences'] = pad_sequences(train_data['text_sequences'], maxlen=MAX_SEQUENCE_LENGTH, padding='post', truncating='post').tolist()\n",
        "val_data['padded_sequences'] = pad_sequences(val_data['text_sequences'], maxlen=MAX_SEQUENCE_LENGTH, padding='post', truncating='post').tolist()\n",
        "test_data['padded_sequences'] = pad_sequences(test_data['text_sequences'], maxlen=MAX_SEQUENCE_LENGTH, padding='post', truncating='post').tolist()\n",
        "\n",
        "# Check the processed text and sequences\n",
        "print(train_data[['utterance', 'processed_text', 'text_sequences', 'padded_sequences']].head())\n"
      ]
    },
    {
      "cell_type": "markdown",
      "metadata": {
        "id": "ab0rgwk_byNg"
      },
      "source": [
        "## **3. Text Embedding**\n",
        "*   Implement different types of embeddings for text conversion into numerical form:\n",
        "   *  Bag of Words (BoW): Count-based method for representing text.\n",
        "   *   TF-IDF: Weigh terms based on their frequency and importance.\n",
        "   *   FastText: Pre-trained word embeddings that capture word meanings."
      ]
    },
    {
      "cell_type": "code",
      "execution_count": null,
      "metadata": {
        "id": "lC7URzeRbyq7",
        "colab": {
          "base_uri": "https://localhost:8080/"
        },
        "outputId": "dacd1383-9ae2-4001-adfc-502e64b37385"
      },
      "outputs": [
        {
          "output_type": "stream",
          "name": "stdout",
          "text": [
            "Embedding completed for BoW, TF-IDF, and FastText.\n"
          ]
        }
      ],
      "source": [
        "from sklearn.feature_extraction.text import CountVectorizer, TfidfVectorizer\n",
        "import gensim\n",
        "\n",
        "# Bag of Words (BoW)\n",
        "bow_vectorizer = CountVectorizer(max_features=5000)\n",
        "X_train_bow = bow_vectorizer.fit_transform(train_data['processed_text']).toarray()\n",
        "X_val_bow = bow_vectorizer.transform(val_data['processed_text']).toarray()\n",
        "X_test_bow = bow_vectorizer.transform(test_data['processed_text']).toarray()\n",
        "\n",
        "# TF-IDF\n",
        "tfidf_vectorizer = TfidfVectorizer(max_features=5000)\n",
        "X_train_tfidf = tfidf_vectorizer.fit_transform(train_data['processed_text']).toarray()\n",
        "X_val_tfidf = tfidf_vectorizer.transform(val_data['processed_text']).toarray()\n",
        "X_test_tfidf = tfidf_vectorizer.transform(test_data['processed_text']).toarray()\n",
        "\n",
        "# FastText (Word Embeddings)\n",
        "fasttext_model = gensim.models.FastText(train_data['processed_text'].apply(str.split), vector_size=100, window=5, min_count=5)\n",
        "X_train_fasttext = [fasttext_model.wv[text.split()] for text in train_data['processed_text']]\n",
        "X_val_fasttext = [fasttext_model.wv[text.split()] for text in val_data['processed_text']]\n",
        "X_test_fasttext = [fasttext_model.wv[text.split()] for text in test_data['processed_text']]\n",
        "\n",
        "print(\"Embedding completed for BoW, TF-IDF, and FastText.\")"
      ]
    },
    {
      "cell_type": "markdown",
      "metadata": {
        "id": "N3yVXxodcVhl"
      },
      "source": [
        "## **4. Model Training with Different Architectures**\n",
        "*   Train deep learning models using the different embeddings:\n",
        " *     CNN (Convolutional Neural Network)\n",
        " *     LSTM (Long Short-Term Memory)\n",
        " *     BiLSTM (Bidirectional LSTM)\n",
        " *     CNN-BiLSTM: A hybrid model"
      ]
    },
    {
      "cell_type": "code",
      "execution_count": null,
      "metadata": {
        "id": "AQ5rqskucV3v"
      },
      "outputs": [],
      "source": [
        "from tensorflow.keras.models import Sequential\n",
        "from tensorflow.keras.layers import Embedding, Conv1D, MaxPooling1D, Flatten, Dense, Dropout\n",
        "from tensorflow.keras.layers import LSTM, Bidirectional\n",
        "from tensorflow.keras.optimizers import Adam\n",
        "\n",
        "def cnn_model(input_dim, num_classes):\n",
        "    model = Sequential()\n",
        "    model.add(Embedding(input_dim, 128, input_length=200))  # Reduced input length\n",
        "    model.add(Conv1D(filters=128, kernel_size=5, activation='relu'))\n",
        "    model.add(MaxPooling1D(pool_size=2))\n",
        "    model.add(Conv1D(filters=64, kernel_size=3, activation='relu'))\n",
        "    model.add(MaxPooling1D(pool_size=2))\n",
        "    model.add(Flatten())\n",
        "    model.add(Dense(128, activation='relu'))\n",
        "    model.add(Dropout(0.3))\n",
        "    model.add(Dense(num_classes, activation='softmax'))  # Multi-class output\n",
        "    model.compile(optimizer=Adam(learning_rate=0.0001),\n",
        "                  loss='categorical_crossentropy',\n",
        "                  metrics=['accuracy'])\n",
        "    return model\n",
        "\n",
        "def lstm_model(input_dim, num_classes):\n",
        "    model = Sequential()\n",
        "    model.add(Embedding(input_dim, 128, input_length=200))  # Reduced input length\n",
        "    model.add(Bidirectional(LSTM(128, return_sequences=True, dropout=0.3)))\n",
        "    model.add(LSTM(64, dropout=0.3))\n",
        "    model.add(Dense(128, activation='relu'))\n",
        "    model.add(Dropout(0.3))\n",
        "    model.add(Dense(num_classes, activation='softmax'))  # Multi-class output\n",
        "    model.compile(optimizer=Adam(learning_rate=0.0001),\n",
        "                  loss='categorical_crossentropy',\n",
        "                  metrics=['accuracy'])\n",
        "    return model\n",
        "\n",
        "def cnn_bilstm_model(input_dim, num_classes):\n",
        "    model = Sequential()\n",
        "    model.add(Embedding(input_dim, 128, input_length=200))  # Reduced input length\n",
        "    model.add(Conv1D(filters=128, kernel_size=5, activation='relu'))\n",
        "    model.add(MaxPooling1D(pool_size=2))\n",
        "    model.add(Conv1D(filters=64, kernel_size=3, activation='relu'))\n",
        "    model.add(MaxPooling1D(pool_size=2))\n",
        "    model.add(Bidirectional(LSTM(128, return_sequences=True, dropout=0.3)))\n",
        "    model.add(LSTM(64, dropout=0.3))\n",
        "    model.add(Dense(128, activation='relu'))\n",
        "    model.add(Dropout(0.3))\n",
        "    model.add(Dense(num_classes, activation='softmax'))  # Multi-class output\n",
        "    model.compile(optimizer=Adam(learning_rate=0.0001),\n",
        "                  loss='categorical_crossentropy',\n",
        "                  metrics=['accuracy'])\n",
        "    return model\n",
        "\n"
      ]
    },
    {
      "cell_type": "code",
      "execution_count": null,
      "metadata": {
        "id": "Ald2xDBWxq3Y",
        "colab": {
          "base_uri": "https://localhost:8080/"
        },
        "outputId": "8462b95f-778c-4f00-861f-3697fed377d7"
      },
      "outputs": [
        {
          "output_type": "stream",
          "name": "stdout",
          "text": [
            "Epoch 1/5\n"
          ]
        },
        {
          "output_type": "stream",
          "name": "stderr",
          "text": [
            "/usr/local/lib/python3.11/dist-packages/keras/src/layers/core/embedding.py:90: UserWarning: Argument `input_length` is deprecated. Just remove it.\n",
            "  warnings.warn(\n"
          ]
        },
        {
          "output_type": "stream",
          "name": "stdout",
          "text": [
            "\u001b[1m68/68\u001b[0m \u001b[32m━━━━━━━━━━━━━━━━━━━━\u001b[0m\u001b[37m\u001b[0m \u001b[1m8s\u001b[0m 52ms/step - accuracy: 0.3214 - loss: 1.5892 - val_accuracy: 0.8292 - val_loss: 1.4843\n",
            "Epoch 2/5\n",
            "\u001b[1m68/68\u001b[0m \u001b[32m━━━━━━━━━━━━━━━━━━━━\u001b[0m\u001b[37m\u001b[0m \u001b[1m1s\u001b[0m 7ms/step - accuracy: 0.8083 - loss: 1.3746 - val_accuracy: 0.8542 - val_loss: 0.8806\n",
            "Epoch 3/5\n",
            "\u001b[1m68/68\u001b[0m \u001b[32m━━━━━━━━━━━━━━━━━━━━\u001b[0m\u001b[37m\u001b[0m \u001b[1m1s\u001b[0m 6ms/step - accuracy: 0.8541 - loss: 0.7013 - val_accuracy: 0.8667 - val_loss: 0.3655\n",
            "Epoch 4/5\n",
            "\u001b[1m68/68\u001b[0m \u001b[32m━━━━━━━━━━━━━━━━━━━━\u001b[0m\u001b[37m\u001b[0m \u001b[1m0s\u001b[0m 6ms/step - accuracy: 0.8888 - loss: 0.3406 - val_accuracy: 0.8917 - val_loss: 0.2559\n",
            "Epoch 5/5\n",
            "\u001b[1m68/68\u001b[0m \u001b[32m━━━━━━━━━━━━━━━━━━━━\u001b[0m\u001b[37m\u001b[0m \u001b[1m0s\u001b[0m 6ms/step - accuracy: 0.9004 - loss: 0.2689 - val_accuracy: 0.9542 - val_loss: 0.1871\n",
            "Epoch 1/20\n",
            "\u001b[1m68/68\u001b[0m \u001b[32m━━━━━━━━━━━━━━━━━━━━\u001b[0m\u001b[37m\u001b[0m \u001b[1m7s\u001b[0m 51ms/step - accuracy: 0.1840 - loss: 1.6107 - val_accuracy: 0.2292 - val_loss: 1.6076\n",
            "Epoch 2/20\n",
            "\u001b[1m68/68\u001b[0m \u001b[32m━━━━━━━━━━━━━━━━━━━━\u001b[0m\u001b[37m\u001b[0m \u001b[1m4s\u001b[0m 29ms/step - accuracy: 0.1973 - loss: 1.6094 - val_accuracy: 0.2250 - val_loss: 1.6088\n",
            "Epoch 3/20\n",
            "\u001b[1m68/68\u001b[0m \u001b[32m━━━━━━━━━━━━━━━━━━━━\u001b[0m\u001b[37m\u001b[0m \u001b[1m2s\u001b[0m 27ms/step - accuracy: 0.1860 - loss: 1.6107 - val_accuracy: 0.1792 - val_loss: 1.6104\n",
            "Epoch 4/20\n",
            "\u001b[1m68/68\u001b[0m \u001b[32m━━━━━━━━━━━━━━━━━━━━\u001b[0m\u001b[37m\u001b[0m \u001b[1m3s\u001b[0m 27ms/step - accuracy: 0.2218 - loss: 1.6091 - val_accuracy: 0.1750 - val_loss: 1.6105\n",
            "Epoch 5/20\n",
            "\u001b[1m68/68\u001b[0m \u001b[32m━━━━━━━━━━━━━━━━━━━━\u001b[0m\u001b[37m\u001b[0m \u001b[1m2s\u001b[0m 28ms/step - accuracy: 0.2020 - loss: 1.6101 - val_accuracy: 0.2292 - val_loss: 1.6096\n",
            "Epoch 6/20\n",
            "\u001b[1m68/68\u001b[0m \u001b[32m━━━━━━━━━━━━━━━━━━━━\u001b[0m\u001b[37m\u001b[0m \u001b[1m3s\u001b[0m 37ms/step - accuracy: 0.1926 - loss: 1.6105 - val_accuracy: 0.1458 - val_loss: 1.6111\n",
            "Epoch 1/20\n",
            "\u001b[1m68/68\u001b[0m \u001b[32m━━━━━━━━━━━━━━━━━━━━\u001b[0m\u001b[37m\u001b[0m \u001b[1m6s\u001b[0m 27ms/step - accuracy: 0.1845 - loss: 1.6098 - val_accuracy: 0.1667 - val_loss: 1.6108\n",
            "Epoch 2/20\n",
            "\u001b[1m68/68\u001b[0m \u001b[32m━━━━━━━━━━━━━━━━━━━━\u001b[0m\u001b[37m\u001b[0m \u001b[1m1s\u001b[0m 16ms/step - accuracy: 0.1967 - loss: 1.6097 - val_accuracy: 0.1833 - val_loss: 1.6103\n",
            "Epoch 3/20\n",
            "\u001b[1m68/68\u001b[0m \u001b[32m━━━━━━━━━━━━━━━━━━━━\u001b[0m\u001b[37m\u001b[0m \u001b[1m1s\u001b[0m 18ms/step - accuracy: 0.1973 - loss: 1.6099 - val_accuracy: 0.1708 - val_loss: 1.6101\n",
            "Epoch 4/20\n",
            "\u001b[1m68/68\u001b[0m \u001b[32m━━━━━━━━━━━━━━━━━━━━\u001b[0m\u001b[37m\u001b[0m \u001b[1m1s\u001b[0m 18ms/step - accuracy: 0.2076 - loss: 1.6094 - val_accuracy: 0.1625 - val_loss: 1.6100\n",
            "Epoch 5/20\n",
            "\u001b[1m68/68\u001b[0m \u001b[32m━━━━━━━━━━━━━━━━━━━━\u001b[0m\u001b[37m\u001b[0m \u001b[1m2s\u001b[0m 24ms/step - accuracy: 0.2095 - loss: 1.6096 - val_accuracy: 0.1833 - val_loss: 1.6102\n",
            "Epoch 6/20\n",
            "\u001b[1m68/68\u001b[0m \u001b[32m━━━━━━━━━━━━━━━━━━━━\u001b[0m\u001b[37m\u001b[0m \u001b[1m2s\u001b[0m 19ms/step - accuracy: 0.2245 - loss: 1.5837 - val_accuracy: 0.3625 - val_loss: 1.1487\n",
            "Epoch 7/20\n",
            "\u001b[1m68/68\u001b[0m \u001b[32m━━━━━━━━━━━━━━━━━━━━\u001b[0m\u001b[37m\u001b[0m \u001b[1m2s\u001b[0m 17ms/step - accuracy: 0.4037 - loss: 1.0945 - val_accuracy: 0.3417 - val_loss: 1.0757\n",
            "Epoch 8/20\n",
            "\u001b[1m68/68\u001b[0m \u001b[32m━━━━━━━━━━━━━━━━━━━━\u001b[0m\u001b[37m\u001b[0m \u001b[1m1s\u001b[0m 18ms/step - accuracy: 0.3924 - loss: 1.0585 - val_accuracy: 0.4042 - val_loss: 1.0503\n",
            "Epoch 9/20\n",
            "\u001b[1m68/68\u001b[0m \u001b[32m━━━━━━━━━━━━━━━━━━━━\u001b[0m\u001b[37m\u001b[0m \u001b[1m1s\u001b[0m 18ms/step - accuracy: 0.3975 - loss: 1.0376 - val_accuracy: 0.4458 - val_loss: 1.0440\n",
            "Epoch 10/20\n",
            "\u001b[1m68/68\u001b[0m \u001b[32m━━━━━━━━━━━━━━━━━━━━\u001b[0m\u001b[37m\u001b[0m \u001b[1m1s\u001b[0m 17ms/step - accuracy: 0.4257 - loss: 1.0006 - val_accuracy: 0.5083 - val_loss: 0.9885\n",
            "Epoch 11/20\n",
            "\u001b[1m68/68\u001b[0m \u001b[32m━━━━━━━━━━━━━━━━━━━━\u001b[0m\u001b[37m\u001b[0m \u001b[1m1s\u001b[0m 18ms/step - accuracy: 0.5764 - loss: 0.8777 - val_accuracy: 0.5750 - val_loss: 0.7687\n",
            "Epoch 12/20\n",
            "\u001b[1m68/68\u001b[0m \u001b[32m━━━━━━━━━━━━━━━━━━━━\u001b[0m\u001b[37m\u001b[0m \u001b[1m1s\u001b[0m 16ms/step - accuracy: 0.5727 - loss: 0.7596 - val_accuracy: 0.7000 - val_loss: 0.7215\n",
            "Epoch 13/20\n",
            "\u001b[1m68/68\u001b[0m \u001b[32m━━━━━━━━━━━━━━━━━━━━\u001b[0m\u001b[37m\u001b[0m \u001b[1m1s\u001b[0m 21ms/step - accuracy: 0.6700 - loss: 0.6795 - val_accuracy: 0.7458 - val_loss: 0.5580\n",
            "Epoch 14/20\n",
            "\u001b[1m68/68\u001b[0m \u001b[32m━━━━━━━━━━━━━━━━━━━━\u001b[0m\u001b[37m\u001b[0m \u001b[1m2s\u001b[0m 18ms/step - accuracy: 0.7675 - loss: 0.5058 - val_accuracy: 0.7917 - val_loss: 0.4124\n",
            "Epoch 15/20\n",
            "\u001b[1m68/68\u001b[0m \u001b[32m━━━━━━━━━━━━━━━━━━━━\u001b[0m\u001b[37m\u001b[0m \u001b[1m1s\u001b[0m 16ms/step - accuracy: 0.7653 - loss: 0.4258 - val_accuracy: 0.8083 - val_loss: 0.3812\n",
            "Epoch 16/20\n",
            "\u001b[1m68/68\u001b[0m \u001b[32m━━━━━━━━━━━━━━━━━━━━\u001b[0m\u001b[37m\u001b[0m \u001b[1m1s\u001b[0m 17ms/step - accuracy: 0.7911 - loss: 0.3615 - val_accuracy: 0.8167 - val_loss: 0.3260\n",
            "Epoch 17/20\n",
            "\u001b[1m68/68\u001b[0m \u001b[32m━━━━━━━━━━━━━━━━━━━━\u001b[0m\u001b[37m\u001b[0m \u001b[1m1s\u001b[0m 16ms/step - accuracy: 0.7977 - loss: 0.3409 - val_accuracy: 0.8292 - val_loss: 0.3314\n",
            "Epoch 18/20\n",
            "\u001b[1m68/68\u001b[0m \u001b[32m━━━━━━━━━━━━━━━━━━━━\u001b[0m\u001b[37m\u001b[0m \u001b[1m1s\u001b[0m 16ms/step - accuracy: 0.7996 - loss: 0.3415 - val_accuracy: 0.8708 - val_loss: 0.3031\n",
            "Epoch 19/20\n",
            "\u001b[1m68/68\u001b[0m \u001b[32m━━━━━━━━━━━━━━━━━━━━\u001b[0m\u001b[37m\u001b[0m \u001b[1m1s\u001b[0m 16ms/step - accuracy: 0.8222 - loss: 0.3130 - val_accuracy: 0.9333 - val_loss: 0.2576\n",
            "Epoch 20/20\n",
            "\u001b[1m68/68\u001b[0m \u001b[32m━━━━━━━━━━━━━━━━━━━━\u001b[0m\u001b[37m\u001b[0m \u001b[1m1s\u001b[0m 18ms/step - accuracy: 0.9144 - loss: 0.2491 - val_accuracy: 0.9542 - val_loss: 0.1784\n"
          ]
        },
        {
          "output_type": "execute_result",
          "data": {
            "text/plain": [
              "<keras.src.callbacks.history.History at 0x7f2a01ac4a50>"
            ]
          },
          "metadata": {},
          "execution_count": 16
        }
      ],
      "source": [
        "from tensorflow.keras.utils import to_categorical\n",
        "from tensorflow.keras.callbacks import EarlyStopping\n",
        "from sklearn.preprocessing import LabelEncoder\n",
        "import numpy as np\n",
        "\n",
        "# Extract padded sequences from train and validation data\n",
        "X_train_seq = np.array(train_data['padded_sequences'].tolist())\n",
        "X_val_seq = np.array(val_data['padded_sequences'].tolist())\n",
        "\n",
        "# Encode categorical labels as integers\n",
        "label_encoder = LabelEncoder()\n",
        "train_labels_encoded = label_encoder.fit_transform(train_data['category'])\n",
        "val_labels_encoded = label_encoder.transform(val_data['category'])\n",
        "\n",
        "# Convert integer labels to one-hot encoding\n",
        "num_classes = len(label_encoder.classes_)\n",
        "y_train = to_categorical(train_labels_encoded, num_classes=num_classes)\n",
        "y_val = to_categorical(val_labels_encoded, num_classes=num_classes)\n",
        "\n",
        "# Define Early Stopping to prevent overfitting\n",
        "early_stopping = EarlyStopping(monitor='val_loss', patience=5, restore_best_weights=True)\n",
        "\n",
        "# Train the CNN model\n",
        "cnn = cnn_model(MAX_NUM_WORDS, num_classes)\n",
        "cnn.fit(X_train_seq, y_train, validation_data=(X_val_seq, y_val), epochs=5, batch_size=32, callbacks=[early_stopping])\n",
        "\n",
        "# Train the LSTM model\n",
        "lstm = lstm_model(MAX_NUM_WORDS, num_classes)\n",
        "lstm.fit(X_train_seq, y_train, validation_data=(X_val_seq, y_val), epochs=20, batch_size=32, callbacks=[early_stopping])\n",
        "\n",
        "# Train the CNN-BiLSTM model\n",
        "cnn_bilstm = cnn_bilstm_model(MAX_NUM_WORDS, num_classes)\n",
        "cnn_bilstm.fit(X_train_seq, y_train, validation_data=(X_val_seq, y_val), epochs=20, batch_size=32, callbacks=[early_stopping])\n"
      ]
    },
    {
      "cell_type": "markdown",
      "metadata": {
        "id": "Ghnchd6qcmg0"
      },
      "source": [
        "## **5. Comparative Analysis of Models**\n",
        "*  Create a comparison table showing the performance of each model based on metrics like accuracy, precision, recall, F1-score, and inference time on different embeddings (BoW, TF-IDF, FastText)."
      ]
    },
    {
      "cell_type": "code",
      "execution_count": null,
      "metadata": {
        "id": "kK4c7MAecm9N",
        "colab": {
          "base_uri": "https://localhost:8080/"
        },
        "outputId": "a97bce43-de3b-406a-eda7-a7fddf7a8212"
      },
      "outputs": [
        {
          "output_type": "stream",
          "name": "stdout",
          "text": [
            "\u001b[1m19/19\u001b[0m \u001b[32m━━━━━━━━━━━━━━━━━━━━\u001b[0m\u001b[37m\u001b[0m \u001b[1m1s\u001b[0m 27ms/step\n",
            "CNN Accuracy: 0.9582637729549248\n",
            "CNN Classification Report:\n",
            "                   precision    recall  f1-score   support\n",
            "\n",
            "         ACCOUNT       0.84      0.99      0.91       124\n",
            "        DELIVERY       1.00      0.96      0.98       114\n",
            "           ORDER       0.98      0.90      0.94       118\n",
            "          REFUND       1.00      0.94      0.97       118\n",
            "SHIPPING_ADDRESS       1.00      1.00      1.00       125\n",
            "\n",
            "        accuracy                           0.96       599\n",
            "       macro avg       0.96      0.96      0.96       599\n",
            "    weighted avg       0.96      0.96      0.96       599\n",
            "\n",
            "\u001b[1m19/19\u001b[0m \u001b[32m━━━━━━━━━━━━━━━━━━━━\u001b[0m\u001b[37m\u001b[0m \u001b[1m1s\u001b[0m 37ms/step\n",
            "LSTM Accuracy: 0.19031719532554256\n",
            "LSTM Classification Report:\n",
            "                   precision    recall  f1-score   support\n",
            "\n",
            "         ACCOUNT       0.19      0.27      0.22       124\n",
            "        DELIVERY       0.00      0.00      0.00       114\n",
            "           ORDER       0.14      0.08      0.11       118\n",
            "          REFUND       0.18      0.22      0.20       118\n",
            "SHIPPING_ADDRESS       0.21      0.36      0.27       125\n",
            "\n",
            "        accuracy                           0.19       599\n",
            "       macro avg       0.15      0.19      0.16       599\n",
            "    weighted avg       0.15      0.19      0.16       599\n",
            "\n"
          ]
        },
        {
          "output_type": "stream",
          "name": "stderr",
          "text": [
            "/usr/local/lib/python3.11/dist-packages/sklearn/metrics/_classification.py:1565: UndefinedMetricWarning: Precision is ill-defined and being set to 0.0 in labels with no predicted samples. Use `zero_division` parameter to control this behavior.\n",
            "  _warn_prf(average, modifier, f\"{metric.capitalize()} is\", len(result))\n",
            "/usr/local/lib/python3.11/dist-packages/sklearn/metrics/_classification.py:1565: UndefinedMetricWarning: Precision is ill-defined and being set to 0.0 in labels with no predicted samples. Use `zero_division` parameter to control this behavior.\n",
            "  _warn_prf(average, modifier, f\"{metric.capitalize()} is\", len(result))\n",
            "/usr/local/lib/python3.11/dist-packages/sklearn/metrics/_classification.py:1565: UndefinedMetricWarning: Precision is ill-defined and being set to 0.0 in labels with no predicted samples. Use `zero_division` parameter to control this behavior.\n",
            "  _warn_prf(average, modifier, f\"{metric.capitalize()} is\", len(result))\n"
          ]
        },
        {
          "output_type": "stream",
          "name": "stdout",
          "text": [
            "\u001b[1m19/19\u001b[0m \u001b[32m━━━━━━━━━━━━━━━━━━━━\u001b[0m\u001b[37m\u001b[0m \u001b[1m2s\u001b[0m 29ms/step\n",
            "CNN-BiLSTM Accuracy: 0.9716193656093489\n",
            "CNN-BiLSTM Classification Report:\n",
            "                   precision    recall  f1-score   support\n",
            "\n",
            "         ACCOUNT       0.96      1.00      0.98       124\n",
            "        DELIVERY       1.00      0.97      0.99       114\n",
            "           ORDER       0.91      0.97      0.94       118\n",
            "          REFUND       1.00      0.91      0.95       118\n",
            "SHIPPING_ADDRESS       1.00      1.00      1.00       125\n",
            "\n",
            "        accuracy                           0.97       599\n",
            "       macro avg       0.97      0.97      0.97       599\n",
            "    weighted avg       0.97      0.97      0.97       599\n",
            "\n",
            "\n",
            "Summary of Model Performance:\n",
            "        Model  Accuracy\n",
            "0         CNN  0.958264\n",
            "1        LSTM  0.190317\n",
            "2  CNN-BiLSTM  0.971619\n"
          ]
        }
      ],
      "source": [
        "from sklearn.metrics import accuracy_score, classification_report\n",
        "import pandas as pd\n",
        "import numpy as np\n",
        "from sklearn.preprocessing import LabelEncoder\n",
        "\n",
        "# Assuming you want to evaluate on the padded sequences:\n",
        "X_test_seq = np.array(test_data['padded_sequences'].tolist())\n",
        "\n",
        "# Evaluate CNN model\n",
        "y_pred_cnn = cnn.predict(X_test_seq)\n",
        "y_pred_cnn_labels = label_encoder.inverse_transform(y_pred_cnn.argmax(axis=1))\n",
        "cnn_acc = accuracy_score(test_data['category'], y_pred_cnn_labels)\n",
        "print(\"CNN Accuracy:\", cnn_acc)\n",
        "print(\"CNN Classification Report:\\n\", classification_report(test_data['category'], y_pred_cnn_labels))\n",
        "\n",
        "# Evaluate LSTM model\n",
        "y_pred_lstm = lstm.predict(X_test_seq)  # Use X_test_seq instead of X_test_bow\n",
        "y_pred_lstm_labels = label_encoder.inverse_transform(y_pred_lstm.argmax(axis=1))  # Decode predictions\n",
        "lstm_acc = accuracy_score(test_data['category'], y_pred_lstm_labels)  # Use decoded labels\n",
        "print(\"LSTM Accuracy:\", lstm_acc)\n",
        "print(\"LSTM Classification Report:\\n\", classification_report(test_data['category'], y_pred_lstm_labels))  # Use decoded labels\n",
        "\n",
        "\n",
        "# Evaluate CNN-BiLSTM model\n",
        "y_pred_cnn_bilstm = cnn_bilstm.predict(X_test_seq)  # Use X_test_seq instead of X_test_bow\n",
        "y_pred_cnn_bilstm_labels = label_encoder.inverse_transform(y_pred_cnn_bilstm.argmax(axis=1))  # Decode predictions\n",
        "cnn_bilstm_acc = accuracy_score(test_data['category'], y_pred_cnn_bilstm_labels)  # Use decoded labels\n",
        "print(\"CNN-BiLSTM Accuracy:\", cnn_bilstm_acc)\n",
        "print(\"CNN-BiLSTM Classification Report:\\n\", classification_report(test_data['category'], y_pred_cnn_bilstm_labels))  # Use decoded labels\n",
        "\n",
        "# Summarize the results in a table\n",
        "results = pd.DataFrame({\n",
        "    'Model': ['CNN', 'LSTM', 'CNN-BiLSTM'],\n",
        "    'Accuracy': [cnn_acc, lstm_acc, cnn_bilstm_acc]\n",
        "})\n",
        "\n",
        "print(\"\\nSummary of Model Performance:\")\n",
        "print(results)"
      ]
    },
    {
      "cell_type": "markdown",
      "source": [
        "## **Validation functions for each models**"
      ],
      "metadata": {
        "id": "WzdITBxQJaVr"
      }
    },
    {
      "cell_type": "code",
      "source": [
        "from sklearn.metrics import accuracy_score, classification_report\n",
        "\n",
        "def validate_model(model, X_val, y_val, model_name):\n",
        "    # Predict class probabilities\n",
        "    y_pred_prob = model.predict(X_val)\n",
        "\n",
        "    # Convert probabilities to class labels\n",
        "    y_pred = y_pred_prob.argmax(axis=1)\n",
        "    y_true = y_val.argmax(axis=1)\n",
        "\n",
        "    # Compute accuracy\n",
        "    accuracy = accuracy_score(y_true, y_pred)\n",
        "\n",
        "    # Print evaluation results\n",
        "    print(f\"\\nValidation Results for {model_name} \")\n",
        "    print(f\"Accuracy: {accuracy:.4f}\")\n",
        "    print(\"\\nClassification Report:\")\n",
        "    print(classification_report(y_true, y_pred, target_names=label_encoder.classes_))\n",
        "\n",
        "# Validate all models\n",
        "validate_model(cnn, X_val_seq, y_val, \"CNN Model\")\n",
        "validate_model(lstm, X_val_seq, y_val, \"LSTM Model\")\n",
        "validate_model(cnn_bilstm, X_val_seq, y_val, \"CNN-BiLSTM Model\")\n"
      ],
      "metadata": {
        "colab": {
          "base_uri": "https://localhost:8080/"
        },
        "id": "3x0gYPzuJhjS",
        "outputId": "9db7f129-5683-4656-afca-8cd09d86c033"
      },
      "execution_count": null,
      "outputs": [
        {
          "output_type": "stream",
          "name": "stdout",
          "text": [
            "\u001b[1m8/8\u001b[0m \u001b[32m━━━━━━━━━━━━━━━━━━━━\u001b[0m\u001b[37m\u001b[0m \u001b[1m1s\u001b[0m 93ms/step\n",
            "\n",
            "Validation Results for CNN Model \n",
            "Accuracy: 0.9542\n",
            "\n",
            "Classification Report:\n",
            "                  precision    recall  f1-score   support\n",
            "\n",
            "         ACCOUNT       0.83      1.00      0.91        50\n",
            "        DELIVERY       1.00      0.93      0.96        40\n",
            "           ORDER       0.98      0.91      0.94        45\n",
            "          REFUND       1.00      0.92      0.96        53\n",
            "SHIPPING_ADDRESS       1.00      1.00      1.00        52\n",
            "\n",
            "        accuracy                           0.95       240\n",
            "       macro avg       0.96      0.95      0.95       240\n",
            "    weighted avg       0.96      0.95      0.96       240\n",
            "\n",
            "\u001b[1m8/8\u001b[0m \u001b[32m━━━━━━━━━━━━━━━━━━━━\u001b[0m\u001b[37m\u001b[0m \u001b[1m0s\u001b[0m 20ms/step\n",
            "\n",
            "Validation Results for LSTM Model \n",
            "Accuracy: 0.1958\n",
            "\n",
            "Classification Report:\n",
            "                  precision    recall  f1-score   support\n",
            "\n",
            "         ACCOUNT       0.31      0.30      0.30        50\n",
            "        DELIVERY       0.00      0.00      0.00        40\n",
            "           ORDER       0.17      0.07      0.10        45\n",
            "          REFUND       0.14      0.19      0.16        53\n",
            "SHIPPING_ADDRESS       0.18      0.37      0.24        52\n",
            "\n",
            "        accuracy                           0.20       240\n",
            "       macro avg       0.16      0.18      0.16       240\n",
            "    weighted avg       0.17      0.20      0.17       240\n",
            "\n",
            "\u001b[1m8/8\u001b[0m \u001b[32m━━━━━━━━━━━━━━━━━━━━\u001b[0m\u001b[37m\u001b[0m \u001b[1m0s\u001b[0m 10ms/step\n",
            "\n",
            "Validation Results for CNN-BiLSTM Model \n",
            "Accuracy: 0.9458\n",
            "\n",
            "Classification Report:\n",
            "                  precision    recall  f1-score   support\n",
            "\n",
            "         ACCOUNT       0.94      0.98      0.96        50\n",
            "        DELIVERY       1.00      0.95      0.97        40\n",
            "           ORDER       0.81      0.98      0.89        45\n",
            "          REFUND       1.00      0.83      0.91        53\n",
            "SHIPPING_ADDRESS       1.00      1.00      1.00        52\n",
            "\n",
            "        accuracy                           0.95       240\n",
            "       macro avg       0.95      0.95      0.95       240\n",
            "    weighted avg       0.95      0.95      0.95       240\n",
            "\n"
          ]
        },
        {
          "output_type": "stream",
          "name": "stderr",
          "text": [
            "/usr/local/lib/python3.11/dist-packages/sklearn/metrics/_classification.py:1565: UndefinedMetricWarning: Precision is ill-defined and being set to 0.0 in labels with no predicted samples. Use `zero_division` parameter to control this behavior.\n",
            "  _warn_prf(average, modifier, f\"{metric.capitalize()} is\", len(result))\n",
            "/usr/local/lib/python3.11/dist-packages/sklearn/metrics/_classification.py:1565: UndefinedMetricWarning: Precision is ill-defined and being set to 0.0 in labels with no predicted samples. Use `zero_division` parameter to control this behavior.\n",
            "  _warn_prf(average, modifier, f\"{metric.capitalize()} is\", len(result))\n",
            "/usr/local/lib/python3.11/dist-packages/sklearn/metrics/_classification.py:1565: UndefinedMetricWarning: Precision is ill-defined and being set to 0.0 in labels with no predicted samples. Use `zero_division` parameter to control this behavior.\n",
            "  _warn_prf(average, modifier, f\"{metric.capitalize()} is\", len(result))\n"
          ]
        }
      ]
    },
    {
      "cell_type": "markdown",
      "metadata": {
        "id": "1OhiIfV8c4zY"
      },
      "source": [
        "## **6. Saving the Best Model**\n",
        "*  Identify and save the model with the best performance based on validation/testing results (save it in a format such as .h5 or .pt)."
      ]
    },
    {
      "cell_type": "code",
      "execution_count": null,
      "metadata": {
        "id": "vPnYD8zdc5T7",
        "colab": {
          "base_uri": "https://localhost:8080/"
        },
        "outputId": "337da291-902e-4206-c062-33a9cd2c6bc3"
      },
      "outputs": [
        {
          "output_type": "stream",
          "name": "stderr",
          "text": [
            "WARNING:absl:You are saving your model as an HDF5 file via `model.save()` or `keras.saving.save_model(model)`. This file format is considered legacy. We recommend using instead the native Keras format, e.g. `model.save('my_model.keras')` or `keras.saving.save_model(model, 'my_model.keras')`. \n"
          ]
        },
        {
          "output_type": "stream",
          "name": "stdout",
          "text": [
            "Best model saved as 'best_text_classification_model.h5'\n"
          ]
        }
      ],
      "source": [
        "# Saving the best model (assuming CNN performed best)\n",
        "cnn.save('best_text_classification_model.h5')\n",
        "print(\"Best model saved as 'best_text_classification_model.h5'\")"
      ]
    },
    {
      "cell_type": "markdown",
      "metadata": {
        "id": "de-Y67-GdHSs"
      },
      "source": [
        "## **7. Prediction on Real-World Input**\n",
        "*  Test the saved model on real-world input data.\n",
        "Preprocess the input text as done earlier and use the model to predict classes.\n",
        "Output predictions with confidence scores or probabilities."
      ]
    },
    {
      "cell_type": "code",
      "execution_count": null,
      "metadata": {
        "id": "Lfrph5o-dHuk",
        "colab": {
          "base_uri": "https://localhost:8080/"
        },
        "outputId": "bc44f281-b248-40a0-c53a-6b5262cd442b"
      },
      "outputs": [
        {
          "output_type": "stream",
          "name": "stderr",
          "text": [
            "WARNING:absl:Compiled the loaded model, but the compiled metrics have yet to be built. `model.compile_metrics` will be empty until you train or evaluate the model.\n"
          ]
        },
        {
          "output_type": "stream",
          "name": "stdout",
          "text": [
            "\u001b[1m1/1\u001b[0m \u001b[32m━━━━━━━━━━━━━━━━━━━━\u001b[0m\u001b[37m\u001b[0m \u001b[1m0s\u001b[0m 399ms/step\n",
            "Predicted Class: DELIVERY\n"
          ]
        }
      ],
      "source": [
        "# Load the saved model\n",
        "from keras.models import load_model\n",
        "model = load_model('best_text_classification_model.h5')\n",
        "\n",
        "# Real-world input\n",
        "new_text = \"can you show me what delivery options I have? The delivery date has passed, but I still haven't received my package. Can you help me find out what happened?\"\n",
        "processed_text = preprocess_text(new_text)\n",
        "\n",
        "# Use tokenizer to transform the text to sequences\n",
        "# This ensures consistency with how the model was trained\n",
        "new_text_sequence = tokenizer.texts_to_sequences([processed_text])\n",
        "new_text_padded = pad_sequences(new_text_sequence, maxlen=MAX_SEQUENCE_LENGTH, padding='post', truncating='post')\n",
        "\n",
        "\n",
        "# Predicting the class of new text\n",
        "predicted_class = model.predict(new_text_padded).round()\n",
        "#The predicted class is in one-hot encoding format\n",
        "#Convert it back to the original label\n",
        "predicted_label = label_encoder.inverse_transform(np.argmax(predicted_class, axis=1))\n",
        "\n",
        "print(f\"Predicted Class: {predicted_label[0]}\")"
      ]
    }
  ],
  "metadata": {
    "colab": {
      "provenance": [],
      "gpuType": "T4"
    },
    "kernelspec": {
      "display_name": "Python 3",
      "name": "python3"
    },
    "language_info": {
      "name": "python"
    },
    "accelerator": "GPU"
  },
  "nbformat": 4,
  "nbformat_minor": 0
}